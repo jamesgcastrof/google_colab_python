{
  "nbformat": 4,
  "nbformat_minor": 0,
  "metadata": {
    "colab": {
      "name": "GoogleColabPython1.ipynb",
      "provenance": [],
      "collapsed_sections": [],
      "authorship_tag": "ABX9TyPGQfyqD/NVDJgL6G72m5oi",
      "include_colab_link": true
    },
    "kernelspec": {
      "name": "python3",
      "display_name": "Python 3"
    },
    "language_info": {
      "name": "python"
    }
  },
  "cells": [
    {
      "cell_type": "markdown",
      "metadata": {
        "id": "view-in-github",
        "colab_type": "text"
      },
      "source": [
        "<a href=\"https://colab.research.google.com/github/jamesgcastrof/google_colab_python/blob/main/GoogleColabPython1.ipynb\" target=\"_parent\"><img src=\"https://colab.research.google.com/assets/colab-badge.svg\" alt=\"Open In Colab\"/></a>"
      ]
    },
    {
      "cell_type": "markdown",
      "source": [
        "#Radom Teste \n",
        "\n",
        "##Magic Eye 🧙"
      ],
      "metadata": {
        "id": "a2tQGLuxsYV3"
      }
    },
    {
      "cell_type": "code",
      "source": [
        "import random\n",
        "\n",
        "ansawer = (random.randint(1,3))\n",
        "\n",
        "if ansawer == 1:\n",
        "  print(f\"O número encontrado {ansawer} Yes\")\n",
        "elif ansawer == 2:\n",
        "  print(f\"O número encontrado {ansawer} Maybe\")\n",
        "else:\n",
        "  print(f\"O número econtrado {ansawer} No\")"
      ],
      "metadata": {
        "colab": {
          "base_uri": "https://localhost:8080/"
        },
        "id": "AoyY7IZVsgEG",
        "outputId": "db2dcdae-e3b5-4943-aeef-741999a4bd5c"
      },
      "execution_count": null,
      "outputs": [
        {
          "output_type": "stream",
          "name": "stdout",
          "text": [
            "O número encontrado 1 Yes\n"
          ]
        }
      ]
    },
    {
      "cell_type": "markdown",
      "source": [
        "##Lucky Number 🍀"
      ],
      "metadata": {
        "id": "UpjY0QF0tYw2"
      }
    },
    {
      "cell_type": "code",
      "source": [
        "import random\n",
        "\n",
        "lucky_number = random.randint(1, 100)\n",
        "\n",
        "fortune_number = random.randint(1,3)\n",
        "\n",
        "fortune_text = ''\n",
        "\n",
        "if fortune_number == 1:\n",
        "  fortune_text = 'You will a have a great day!'\n",
        "if fortune_number == 2:\n",
        "  fortune_text = 'Today will be tought... but worth it'\n",
        "if fortune_number == 3 :\n",
        "  fortune_text = 'You will get maried this year!'\n",
        "\n",
        "print(f'{fortune_text} Your luck number is: {lucky_number}')"
      ],
      "metadata": {
        "id": "l2mWV0q-tp1j"
      },
      "execution_count": null,
      "outputs": []
    },
    {
      "cell_type": "markdown",
      "source": [
        "##Random Films 📽"
      ],
      "metadata": {
        "id": "I1hCXrlNvbmJ"
      }
    },
    {
      "cell_type": "code",
      "source": [
        "import random\n",
        "fav_movies = [\"Sandlot\", \"Lego Movie\", \"Dune\"]\n",
        "\n",
        "select = random.choice(fav_movies)\n",
        "\n",
        "print(select)"
      ],
      "metadata": {
        "id": "252HEV16vqSB"
      },
      "execution_count": null,
      "outputs": []
    },
    {
      "cell_type": "markdown",
      "source": [
        "#Jogo da Forca 📚 ✅"
      ],
      "metadata": {
        "id": "YSPM4FnHEgd8"
      }
    },
    {
      "cell_type": "code",
      "source": [
        "#jogo da forca\n",
        "from random import choice\n",
        "\n",
        "vocabulario = [\n",
        "               \"\"\"esquistossomose\", \"naftalina\", \"ribonucleico\", \n",
        "               \"idiossincratico\", \"fagocitose\", \"quinquagesimo\"\"\"\n",
        "               ]\n",
        "\n",
        "palavra = choice(vocabulario)\n",
        "\n",
        "print('Bem vindo ao JOGO DA FORCA!! Teste seu conhecimento!!')\n",
        "\n",
        "chances = 5\n",
        "alfabeto = list('abcdefghijklmnopqrstuvwxyz')\n",
        "tentativas = []\n",
        "\n",
        "while True:\n",
        "    print(tentativas)\n",
        "    print(f'Voce tem {chances} chances!')\n",
        "\n",
        "    for letra in palavra:\n",
        "        if letra in tentativas:\n",
        "            print(letra, end = '')\n",
        "        else:\n",
        "            print('_', end = '')\n",
        "    palpite = str(input('\\n Digite seu palpite ou SAIR para sair do programa: ').lower())\n",
        "    if palpite == 'sair':\n",
        "        break\n",
        "\n",
        "    elif palpite not in alfabeto or palpite == '':\n",
        "        print('Voce não digitou uma letra! Tente novamente!')        \n",
        "        continue\n",
        "\n",
        "    elif palpite in tentativas:\n",
        "        print('Voce ja digitou esta letra, tente outra!')\n",
        "\n",
        "    tentativas.append(palpite)\n",
        "\n",
        "    if palpite in palavra:\n",
        "        print('Acertou, Parabéns')\n",
        "        \n",
        "    else:\n",
        "        print('Errou!')\n",
        "        chances -= 1\n",
        "    if chances == 0:\n",
        "        print('Voce Perdeu!!')\n",
        "        break\n",
        "    elif set(palavra).issubset(set(tentativas)):\n",
        "        print('Parabéns voce acertou!! Completou o JOGO DA FORCA!')\n",
        "        break"
      ],
      "metadata": {
        "id": "JFTlOEBZE0c-"
      },
      "execution_count": null,
      "outputs": []
    }
  ]
}